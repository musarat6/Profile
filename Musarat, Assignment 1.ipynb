{
 "cells": [
  {
   "cell_type": "code",
   "execution_count": 2,
   "metadata": {},
   "outputs": [
    {
     "name": "stdout",
     "output_type": "stream",
     "text": [
      "Name: Musarat Jehan\n",
      "DOB: 24th November\n",
      "My Qualification is M.Sc Statistics\n",
      "I am a Teacher\n"
     ]
    }
   ],
   "source": [
    "fname = \"Musarat\"\n",
    "lname = \"Jehan\"\n",
    "DOB = \"24th November\"\n",
    "Qualification = \"M.Sc Statistics\"\n",
    "Occupation = \"Teacher\"\n",
    "print(\"Name:\",fname,lname)\n",
    "print(\"DOB:\",DOB)\n",
    "print(\"My Qualification is\",Qualification)\n",
    "print(\"I am a\", Occupation)"
   ]
  },
  {
   "cell_type": "code",
   "execution_count": null,
   "metadata": {},
   "outputs": [],
   "source": []
  }
 ],
 "metadata": {
  "kernelspec": {
   "display_name": "Python 3",
   "language": "python",
   "name": "python3"
  },
  "language_info": {
   "codemirror_mode": {
    "name": "ipython",
    "version": 3
   },
   "file_extension": ".py",
   "mimetype": "text/x-python",
   "name": "python",
   "nbconvert_exporter": "python",
   "pygments_lexer": "ipython3",
   "version": "3.7.4"
  }
 },
 "nbformat": 4,
 "nbformat_minor": 2
}
